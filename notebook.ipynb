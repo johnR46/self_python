{
 "cells": [
  {
   "cell_type": "code",
   "execution_count": 1,
   "metadata": {
    "collapsed": true
   },
   "outputs": [
    {
     "name": "stdout",
     "output_type": "stream",
     "text": [
      "hello\n"
     ]
    }
   ],
   "source": [
    "print('hello')"
   ]
  },
  {
   "cell_type": "code",
   "execution_count": 2,
   "outputs": [],
   "source": [
    "input_data = ['auto', 'didactic', 'graph', 'mate', 'chrome', 'centric', 'complete',\n",
    "              'echolalia', 'encoder', 'biography']\n",
    "\n",
    "result_data = ('auto :: autodidactic :: autograph :: automate :: autochrome :: '\n",
    "               'autocentric :: autocomplete :: autoecholalia :: autoencoder :: '\n",
    "               'autobiography')"
   ],
   "metadata": {
    "collapsed": false,
    "pycharm": {
     "name": "#%%\n"
    }
   }
  },
  {
   "cell_type": "code",
   "execution_count": 9,
   "outputs": [
    {
     "data": {
      "text/plain": "['autoauto',\n 'autodidactic',\n 'autograph',\n 'automate',\n 'autochrome',\n 'autocentric',\n 'autocomplete',\n 'autoecholalia',\n 'autoencoder',\n 'autobiography']"
     },
     "execution_count": 9,
     "metadata": {},
     "output_type": "execute_result"
    }
   ],
   "source": [
    "new_word = [ input_data[0] + x for x in input_data]\n",
    "new_word"
   ],
   "metadata": {
    "collapsed": false,
    "pycharm": {
     "name": "#%%\n"
    }
   }
  }
 ],
 "metadata": {
  "kernelspec": {
   "display_name": "Python 3",
   "language": "python",
   "name": "python3"
  },
  "language_info": {
   "codemirror_mode": {
    "name": "ipython",
    "version": 2
   },
   "file_extension": ".py",
   "mimetype": "text/x-python",
   "name": "python",
   "nbconvert_exporter": "python",
   "pygments_lexer": "ipython2",
   "version": "2.7.6"
  }
 },
 "nbformat": 4,
 "nbformat_minor": 0
}